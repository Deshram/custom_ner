{
 "cells": [
  {
   "cell_type": "code",
   "execution_count": 10,
   "metadata": {},
   "outputs": [],
   "source": [
    "import pandas as pd\n",
    "import numpy as np\n",
    "import spacy\n",
    "import random\n",
    "import json\n",
    "import pickle\n",
    "from spacy.training import Example\n",
    "from spacy import displacy"
   ]
  },
  {
   "cell_type": "code",
   "execution_count": 2,
   "metadata": {},
   "outputs": [
    {
     "data": {
      "text/html": [
       "<div>\n",
       "<style scoped>\n",
       "    .dataframe tbody tr th:only-of-type {\n",
       "        vertical-align: middle;\n",
       "    }\n",
       "\n",
       "    .dataframe tbody tr th {\n",
       "        vertical-align: top;\n",
       "    }\n",
       "\n",
       "    .dataframe thead th {\n",
       "        text-align: right;\n",
       "    }\n",
       "</style>\n",
       "<table border=\"1\" class=\"dataframe\">\n",
       "  <thead>\n",
       "    <tr style=\"text-align: right;\">\n",
       "      <th></th>\n",
       "      <th>sentence1</th>\n",
       "      <th>sentence2</th>\n",
       "      <th>sentence3</th>\n",
       "      <th>sentence4</th>\n",
       "      <th>sentence5</th>\n",
       "    </tr>\n",
       "  </thead>\n",
       "  <tbody>\n",
       "    <tr>\n",
       "      <td>0</td>\n",
       "      <td>Sven did not like to drink alcohol under any c...</td>\n",
       "      <td>He often excused himself from events that woul...</td>\n",
       "      <td>One evening, his girlfriend offered him a smal...</td>\n",
       "      <td>Sven decided to drink the beverage, hoping he ...</td>\n",
       "      <td>Unfortunately, the wine was not tasty enough t...</td>\n",
       "    </tr>\n",
       "    <tr>\n",
       "      <td>1</td>\n",
       "      <td>Maddie went to work today.</td>\n",
       "      <td>However, she didn't eat for most of the day.</td>\n",
       "      <td>Jen invited her to a party.</td>\n",
       "      <td>She tried to go but ended up passing out while...</td>\n",
       "      <td>Her friend had to take her home.</td>\n",
       "    </tr>\n",
       "    <tr>\n",
       "      <td>2</td>\n",
       "      <td>Heather needed to go back to school shopping f...</td>\n",
       "      <td>She doesn't get out of the house much because ...</td>\n",
       "      <td>Heather decided to start looking at online sales.</td>\n",
       "      <td>She found some really good deals shopping online.</td>\n",
       "      <td>Because of the good deals she got her shopping...</td>\n",
       "    </tr>\n",
       "    <tr>\n",
       "      <td>3</td>\n",
       "      <td>Andrew was taking his little cousins to ride g...</td>\n",
       "      <td>He called them to see if they were ready to be...</td>\n",
       "      <td>They were ready to be picked up.</td>\n",
       "      <td>So Andrew picked them all up and drove them to...</td>\n",
       "      <td>They all had fun riding go carts.</td>\n",
       "    </tr>\n",
       "    <tr>\n",
       "      <td>4</td>\n",
       "      <td>The grass in the front yard is dying.</td>\n",
       "      <td>It gets too much sun throughout the day.</td>\n",
       "      <td>We need to plant a tree so that the grass does...</td>\n",
       "      <td>I think we will look to get a maple tree.</td>\n",
       "      <td>We get in the car and head to get the tree.</td>\n",
       "    </tr>\n",
       "  </tbody>\n",
       "</table>\n",
       "</div>"
      ],
      "text/plain": [
       "                                           sentence1  \\\n",
       "0  Sven did not like to drink alcohol under any c...   \n",
       "1                         Maddie went to work today.   \n",
       "2  Heather needed to go back to school shopping f...   \n",
       "3  Andrew was taking his little cousins to ride g...   \n",
       "4              The grass in the front yard is dying.   \n",
       "\n",
       "                                           sentence2  \\\n",
       "0  He often excused himself from events that woul...   \n",
       "1       However, she didn't eat for most of the day.   \n",
       "2  She doesn't get out of the house much because ...   \n",
       "3  He called them to see if they were ready to be...   \n",
       "4           It gets too much sun throughout the day.   \n",
       "\n",
       "                                           sentence3  \\\n",
       "0  One evening, his girlfriend offered him a smal...   \n",
       "1                        Jen invited her to a party.   \n",
       "2  Heather decided to start looking at online sales.   \n",
       "3                   They were ready to be picked up.   \n",
       "4  We need to plant a tree so that the grass does...   \n",
       "\n",
       "                                           sentence4  \\\n",
       "0  Sven decided to drink the beverage, hoping he ...   \n",
       "1  She tried to go but ended up passing out while...   \n",
       "2  She found some really good deals shopping online.   \n",
       "3  So Andrew picked them all up and drove them to...   \n",
       "4          I think we will look to get a maple tree.   \n",
       "\n",
       "                                           sentence5  \n",
       "0  Unfortunately, the wine was not tasty enough t...  \n",
       "1                   Her friend had to take her home.  \n",
       "2  Because of the good deals she got her shopping...  \n",
       "3                  They all had fun riding go carts.  \n",
       "4        We get in the car and head to get the tree.  "
      ]
     },
     "execution_count": 2,
     "metadata": {},
     "output_type": "execute_result"
    }
   ],
   "source": [
    "data = pd.read_csv('data.csv')\n",
    "data.head()"
   ]
  },
  {
   "cell_type": "code",
   "execution_count": 3,
   "metadata": {},
   "outputs": [
    {
     "data": {
      "text/plain": [
       "\"Sven did not like to drink alcohol under any circumstances. He often excused himself from events that would include alcohol. One evening, his girlfriend offered him a small glass of wine. Sven decided to drink the beverage, hoping he may actually like it. Unfortunately, the wine was not tasty enough to change Sven's mind.\""
      ]
     },
     "execution_count": 3,
     "metadata": {},
     "output_type": "execute_result"
    }
   ],
   "source": [
    "#Combining all sentences into one paragraph\n",
    "\n",
    "data['paragraph'] = data['sentence1']+' '+data['sentence2']+' '+data['sentence3']+' '+data['sentence4']+' '+data['sentence5']\n",
    "data.drop(['sentence1','sentence2','sentence3','sentence4','sentence5'], axis=1, inplace=True)\n",
    "data.iloc[0]['paragraph']"
   ]
  },
  {
   "cell_type": "code",
   "execution_count": 4,
   "metadata": {},
   "outputs": [
    {
     "data": {
      "text/html": [
       "<div>\n",
       "<style scoped>\n",
       "    .dataframe tbody tr th:only-of-type {\n",
       "        vertical-align: middle;\n",
       "    }\n",
       "\n",
       "    .dataframe tbody tr th {\n",
       "        vertical-align: top;\n",
       "    }\n",
       "\n",
       "    .dataframe thead th {\n",
       "        text-align: right;\n",
       "    }\n",
       "</style>\n",
       "<table border=\"1\" class=\"dataframe\">\n",
       "  <thead>\n",
       "    <tr style=\"text-align: right;\">\n",
       "      <th></th>\n",
       "      <th>paragraph</th>\n",
       "    </tr>\n",
       "  </thead>\n",
       "  <tbody>\n",
       "    <tr>\n",
       "      <td>0</td>\n",
       "      <td>Sven did not like to drink alcohol under any c...</td>\n",
       "    </tr>\n",
       "    <tr>\n",
       "      <td>1</td>\n",
       "      <td>Maddie went to work today. However, she didn't...</td>\n",
       "    </tr>\n",
       "    <tr>\n",
       "      <td>2</td>\n",
       "      <td>Heather needed to go back to school shopping f...</td>\n",
       "    </tr>\n",
       "    <tr>\n",
       "      <td>3</td>\n",
       "      <td>Andrew was taking his little cousins to ride g...</td>\n",
       "    </tr>\n",
       "    <tr>\n",
       "      <td>4</td>\n",
       "      <td>The grass in the front yard is dying. It gets ...</td>\n",
       "    </tr>\n",
       "  </tbody>\n",
       "</table>\n",
       "</div>"
      ],
      "text/plain": [
       "                                           paragraph\n",
       "0  Sven did not like to drink alcohol under any c...\n",
       "1  Maddie went to work today. However, she didn't...\n",
       "2  Heather needed to go back to school shopping f...\n",
       "3  Andrew was taking his little cousins to ride g...\n",
       "4  The grass in the front yard is dying. It gets ..."
      ]
     },
     "execution_count": 4,
     "metadata": {},
     "output_type": "execute_result"
    }
   ],
   "source": [
    "data.head()"
   ]
  },
  {
   "cell_type": "code",
   "execution_count": 6,
   "metadata": {},
   "outputs": [],
   "source": [
    "# Approach is to manually annotating the entities and train on the given dataset. \n",
    "# For annotation I used this tool https://manivannanmurugavel.github.io/annotating-tool/spacy-ner-annotator/ \n",
    "# This tool returns a docs and their entity labels with their offsets but we want list of tuples as inputs for spacy training pipeline.  \n",
    "\n",
    "data.to_csv('data.txt',header=False, index=False)  # Using this file for annotation of entities."
   ]
  },
  {
   "cell_type": "code",
   "execution_count": 12,
   "metadata": {},
   "outputs": [
    {
     "name": "stdout",
     "output_type": "stream",
     "text": [
      "[('\"Sven did not like to drink alcohol under any circumstances. He often excused himself from events that would include alcohol. One evening, his girlfriend offered him a small glass of wine. Sven decided to drink the beverage, hoping he may actually like it. Unfortunately, the wine was not tasty enough to change Sven\\'s mind.\"', {'entities': [(312, 316, 'living_entity'), (276, 280, 'object'), (215, 223, 'object'), (183, 187, 'object'), (174, 179, 'object'), (143, 153, 'living_entity'), (117, 124, 'object'), (28, 35, 'object'), (1, 5, 'living_entity')]}), ('\"Maddie went to work today. However, she didn\\'t eat for most of the day. Jen invited her to a party. She tried to go but ended up passing out while she was there. Her friend had to take her home.\"', {'entities': [(190, 194, 'place'), (167, 173, 'living_entity'), (73, 76, 'living_entity'), (1, 7, 'living_entity')]}), (\"Heather needed to go back to school shopping for her children. She doesn't get out of the house much because she doesn't drive. Heather decided to start looking at online sales. She found some really good deals shopping online. Because of the good deals she got her shopping all done.\", {'entities': [(128, 135, 'living_entity'), (90, 95, 'place'), (53, 61, 'living_entity'), (29, 35, 'place'), (0, 7, 'living_entity')]}), ('Andrew was taking his little cousins to ride go karts. He called them to see if they were ready to be picked up. They were ready to be picked up. So Andrew picked them all up and drove them to ride go karts. They all had fun riding go carts.', {'entities': [(232, 240, 'object'), (198, 206, 'object'), (149, 155, 'living_entity'), (45, 53, 'object'), (29, 36, 'living_entity'), (0, 6, 'living_entity')]}), (\"The grass in the front yard is dying. It gets too much sun throughout the day. We need to plant a tree so that the grass doesn't die. I think we will look to get a maple tree. We get in the car and head to get the tree.\", {'entities': [(214, 218, 'living_entity'), (190, 193, 'object'), (115, 120, 'living_entity'), (98, 102, 'living_entity'), (17, 27, 'place'), (4, 9, 'living_entity')]})]\n"
     ]
    }
   ],
   "source": [
    "# After annotation we got the following file 'doc.json'.\n",
    "# Converting it into as per our requirement i.e. list of tuples.\n",
    "# Following code snippet was referred from \n",
    "# https://github.com/ManivannanMurugavel/spacy-ner-annotator/blob/master/convert_spacy_train_data.py\n",
    "\n",
    "with open('doc.json') as f:\n",
    "    doc = json.load(f)\n",
    "\n",
    "train_data = []\n",
    "for para in doc:\n",
    "    entities = [tuple(entity[:3]) for entity in para['entities']]\n",
    "    train_data.append((para['content'],{'entities':entities}))\n",
    "    \n",
    "with open('doc.pkl','wb') as f:\n",
    "     pickle.dump(train_data, f)\n",
    "        \n",
    "print(train_data[:5])"
   ]
  },
  {
   "cell_type": "code",
   "execution_count": 19,
   "metadata": {},
   "outputs": [
    {
     "name": "stdout",
     "output_type": "stream",
     "text": [
      "Statring iteration 0\n",
      "{'ner': 1107.792653946908}\n",
      "Statring iteration 1\n",
      "{'ner': 420.27882592773597}\n",
      "Statring iteration 2\n",
      "{'ner': 277.41279000492517}\n",
      "Statring iteration 3\n",
      "{'ner': 337.1649602761418}\n",
      "Statring iteration 4\n",
      "{'ner': 161.67681647928381}\n",
      "Statring iteration 5\n",
      "{'ner': 90.71223637205419}\n",
      "Statring iteration 6\n",
      "{'ner': 61.49427974651371}\n",
      "Statring iteration 7\n",
      "{'ner': 59.87141201097892}\n",
      "Statring iteration 8\n",
      "{'ner': 50.055224549122904}\n",
      "Statring iteration 9\n",
      "{'ner': 42.201763373343546}\n",
      "Statring iteration 10\n",
      "{'ner': 44.51495187496945}\n",
      "Statring iteration 11\n",
      "{'ner': 33.28897600072449}\n",
      "Statring iteration 12\n",
      "{'ner': 35.904692413002856}\n",
      "Statring iteration 13\n",
      "{'ner': 93.56050995231955}\n",
      "Statring iteration 14\n",
      "{'ner': 16.0156660355891}\n",
      "Statring iteration 15\n",
      "{'ner': 15.62840182301043}\n",
      "Statring iteration 16\n",
      "{'ner': 76.19191825789858}\n",
      "Statring iteration 17\n",
      "{'ner': 20.64396235470604}\n",
      "Statring iteration 18\n",
      "{'ner': 20.896974480465396}\n",
      "Statring iteration 19\n",
      "{'ner': 20.718920559607334}\n"
     ]
    }
   ],
   "source": [
    "nlp = spacy.blank('en')  # create blank Language class\n",
    "# create the built-in pipeline components and add them to the pipeline\n",
    "# nlp.create_pipe works for built-ins that are registered with spaCy\n",
    "if 'ner' not in nlp.pipe_names:\n",
    "    nlp.add_pipe('ner', last=True)\n",
    "\n",
    "# get names of other pipes to disable them during training\n",
    "other_pipes = [pipe for pipe in nlp.pipe_names if pipe != 'ner']\n",
    "n_iter = 20  #no of iterations\n",
    "with nlp.disable_pipes(*other_pipes):  # only train NER\n",
    "    optimizer = nlp.begin_training()\n",
    "    for itn in range(n_iter):\n",
    "        print(\"Statring iteration \" + str(itn))\n",
    "        random.shuffle(train_data)\n",
    "        losses = {}\n",
    "        for text, annotations in train_data:\n",
    "            doc = nlp.make_doc(text)\n",
    "            example = Example.from_dict(doc, annotations)\n",
    "            nlp.update(\n",
    "                [example],  # batch of annotations\n",
    "                drop=0.1,  # dropout - make it harder to memorise data\n",
    "                sgd=optimizer,  # callable to update weights\n",
    "                losses=losses)\n",
    "        print(losses)\n",
    "        \n",
    "nlp.to_disk('model')"
   ]
  },
  {
   "cell_type": "code",
   "execution_count": 20,
   "metadata": {},
   "outputs": [
    {
     "data": {
      "text/html": [
       "<span class=\"tex2jax_ignore\"><div class=\"entities\" style=\"line-height: 2.5; direction: ltr\">\n",
       "<mark class=\"entity\" style=\"background: #ddd; padding: 0.45em 0.6em; margin: 0 0.25em; line-height: 1; border-radius: 0.35em;\">\n",
       "    Hugo\n",
       "    <span style=\"font-size: 0.8em; font-weight: bold; line-height: 1; border-radius: 0.35em; vertical-align: middle; margin-left: 0.5rem\">living_entity</span>\n",
       "</mark>\n",
       " pushed a \n",
       "<mark class=\"entity\" style=\"background: #ddd; padding: 0.45em 0.6em; margin: 0 0.25em; line-height: 1; border-radius: 0.35em;\">\n",
       "    smaller\n",
       "    <span style=\"font-size: 0.8em; font-weight: bold; line-height: 1; border-radius: 0.35em; vertical-align: middle; margin-left: 0.5rem\">living_entity</span>\n",
       "</mark>\n",
       " \n",
       "<mark class=\"entity\" style=\"background: #ddd; padding: 0.45em 0.6em; margin: 0 0.25em; line-height: 1; border-radius: 0.35em;\">\n",
       "    man\n",
       "    <span style=\"font-size: 0.8em; font-weight: bold; line-height: 1; border-radius: 0.35em; vertical-align: middle; margin-left: 0.5rem\">living_entity</span>\n",
       "</mark>\n",
       " for no \n",
       "<mark class=\"entity\" style=\"background: #ddd; padding: 0.45em 0.6em; margin: 0 0.25em; line-height: 1; border-radius: 0.35em;\">\n",
       "    reason\n",
       "    <span style=\"font-size: 0.8em; font-weight: bold; line-height: 1; border-radius: 0.35em; vertical-align: middle; margin-left: 0.5rem\">living_entity</span>\n",
       "</mark>\n",
       ". The \n",
       "<mark class=\"entity\" style=\"background: #ddd; padding: 0.45em 0.6em; margin: 0 0.25em; line-height: 1; border-radius: 0.35em;\">\n",
       "    man\n",
       "    <span style=\"font-size: 0.8em; font-weight: bold; line-height: 1; border-radius: 0.35em; vertical-align: middle; margin-left: 0.5rem\">living_entity</span>\n",
       "</mark>\n",
       " hit \n",
       "<mark class=\"entity\" style=\"background: #ddd; padding: 0.45em 0.6em; margin: 0 0.25em; line-height: 1; border-radius: 0.35em;\">\n",
       "    Hugo\n",
       "    <span style=\"font-size: 0.8em; font-weight: bold; line-height: 1; border-radius: 0.35em; vertical-align: middle; margin-left: 0.5rem\">living_entity</span>\n",
       "</mark>\n",
       " with a \n",
       "<mark class=\"entity\" style=\"background: #ddd; padding: 0.45em 0.6em; margin: 0 0.25em; line-height: 1; border-radius: 0.35em;\">\n",
       "    stick\n",
       "    <span style=\"font-size: 0.8em; font-weight: bold; line-height: 1; border-radius: 0.35em; vertical-align: middle; margin-left: 0.5rem\">object</span>\n",
       "</mark>\n",
       ". \n",
       "<mark class=\"entity\" style=\"background: #ddd; padding: 0.45em 0.6em; margin: 0 0.25em; line-height: 1; border-radius: 0.35em;\">\n",
       "    Hugo\n",
       "    <span style=\"font-size: 0.8em; font-weight: bold; line-height: 1; border-radius: 0.35em; vertical-align: middle; margin-left: 0.5rem\">living_entity</span>\n",
       "</mark>\n",
       " grabbed the \n",
       "<mark class=\"entity\" style=\"background: #ddd; padding: 0.45em 0.6em; margin: 0 0.25em; line-height: 1; border-radius: 0.35em;\">\n",
       "    man\n",
       "    <span style=\"font-size: 0.8em; font-weight: bold; line-height: 1; border-radius: 0.35em; vertical-align: middle; margin-left: 0.5rem\">living_entity</span>\n",
       "</mark>\n",
       " roughly. He threw the \n",
       "<mark class=\"entity\" style=\"background: #ddd; padding: 0.45em 0.6em; margin: 0 0.25em; line-height: 1; border-radius: 0.35em;\">\n",
       "    man\n",
       "    <span style=\"font-size: 0.8em; font-weight: bold; line-height: 1; border-radius: 0.35em; vertical-align: middle; margin-left: 0.5rem\">living_entity</span>\n",
       "</mark>\n",
       " to the \n",
       "<mark class=\"entity\" style=\"background: #ddd; padding: 0.45em 0.6em; margin: 0 0.25em; line-height: 1; border-radius: 0.35em;\">\n",
       "    ground\n",
       "    <span style=\"font-size: 0.8em; font-weight: bold; line-height: 1; border-radius: 0.35em; vertical-align: middle; margin-left: 0.5rem\">place</span>\n",
       "</mark>\n",
       ". The \n",
       "<mark class=\"entity\" style=\"background: #ddd; padding: 0.45em 0.6em; margin: 0 0.25em; line-height: 1; border-radius: 0.35em;\">\n",
       "    man\n",
       "    <span style=\"font-size: 0.8em; font-weight: bold; line-height: 1; border-radius: 0.35em; vertical-align: middle; margin-left: 0.5rem\">living_entity</span>\n",
       "</mark>\n",
       " begged \n",
       "<mark class=\"entity\" style=\"background: #ddd; padding: 0.45em 0.6em; margin: 0 0.25em; line-height: 1; border-radius: 0.35em;\">\n",
       "    Hugo\n",
       "    <span style=\"font-size: 0.8em; font-weight: bold; line-height: 1; border-radius: 0.35em; vertical-align: middle; margin-left: 0.5rem\">living_entity</span>\n",
       "</mark>\n",
       " for mercy.</div></span>"
      ],
      "text/plain": [
       "<IPython.core.display.HTML object>"
      ]
     },
     "metadata": {},
     "output_type": "display_data"
    }
   ],
   "source": [
    "para = nlp(\"Hugo pushed a smaller man for no reason. The man hit Hugo with a stick. Hugo grabbed the man roughly. He threw the man to the ground. The man begged Hugo for mercy.\")\n",
    "\n",
    "displacy.render(para, style='ent', jupyter=True)"
   ]
  },
  {
   "cell_type": "code",
   "execution_count": 44,
   "metadata": {},
   "outputs": [
    {
     "name": "stdout",
     "output_type": "stream",
     "text": [
      "{'entities': {'living_entity': ['Hugo', 'man', 'reason', 'smaller'], 'place': ['ground'], 'object': ['stick']}}\n"
     ]
    }
   ],
   "source": [
    "#final pipeline\n",
    "nlp = spacy.load('model')\n",
    "with open('example_input.txt','r') as f:\n",
    "    paragraph = f.read()\n",
    "\n",
    "doc = nlp(paragraph)\n",
    "\n",
    "name_entity = []   #to store entity and its label\n",
    "labels = ['living_entity', 'place', 'object']\n",
    "for ent in doc.ents:\n",
    "    name_entity.append([str(ent),ent.label_])\n",
    "    \n",
    "name_entity = np.array(name_entity)\n",
    "name_entity = np.unique(name_entity, axis=0)\n",
    "\n",
    "entities = {}\n",
    "for i in labels:\n",
    "    rows,cols = np.where(name_entity == i)\n",
    "    entities[i] = list(name_entity[rows,0])\n",
    "\n",
    "res = {'entities':entities}\n",
    "with open('eg_output.json','w') as f:\n",
    "    json.dump(res,f)\n",
    "\n",
    "with open('eg_output.json','r') as f:\n",
    "    a = json.load(f)\n",
    "\n",
    "print(a)"
   ]
  },
  {
   "cell_type": "code",
   "execution_count": 43,
   "metadata": {},
   "outputs": [
    {
     "data": {
      "text/plain": [
       "()"
      ]
     },
     "execution_count": 43,
     "metadata": {},
     "output_type": "execute_result"
    }
   ],
   "source": [
    "doc.ents"
   ]
  },
  {
   "cell_type": "code",
   "execution_count": null,
   "metadata": {},
   "outputs": [],
   "source": []
  },
  {
   "cell_type": "code",
   "execution_count": null,
   "metadata": {},
   "outputs": [],
   "source": []
  }
 ],
 "metadata": {
  "kernelspec": {
   "display_name": "Python 3",
   "language": "python",
   "name": "python3"
  },
  "language_info": {
   "codemirror_mode": {
    "name": "ipython",
    "version": 3
   },
   "file_extension": ".py",
   "mimetype": "text/x-python",
   "name": "python",
   "nbconvert_exporter": "python",
   "pygments_lexer": "ipython3",
   "version": "3.7.4"
  }
 },
 "nbformat": 4,
 "nbformat_minor": 2
}
